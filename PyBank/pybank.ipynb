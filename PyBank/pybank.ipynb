{
 "cells": [
  {
   "cell_type": "code",
   "execution_count": 27,
   "metadata": {},
   "outputs": [],
   "source": [
    "import os\n",
    "import csv"
   ]
  },
  {
   "cell_type": "code",
   "execution_count": 28,
   "metadata": {},
   "outputs": [],
   "source": [
    "path = os.path.join(\"Resources\",\"budget_data.csv\")\n",
    "\n",
    "months = []\n",
    "revenue = []\n"
   ]
  },
  {
   "cell_type": "code",
   "execution_count": 29,
   "metadata": {},
   "outputs": [],
   "source": [
    "with open(path,newline=\"\") as infile:\n",
    "    csv = csv.reader(infile ,delimiter = \",\")\n",
    "    next(csv)\n",
    "    for row in csv :\n",
    "        months.append(row[0])\n",
    "        revenue.append(int(row[1]))"
   ]
  },
  {
   "cell_type": "code",
   "execution_count": 30,
   "metadata": {},
   "outputs": [],
   "source": [
    "count_months = 0"
   ]
  },
  {
   "cell_type": "code",
   "execution_count": 31,
   "metadata": {},
   "outputs": [],
   "source": [
    "for i in months :\n",
    "    count_months += 1\n",
    "\n",
    "sum_revenue = round(sum(revenue),2)\n",
    "\n",
    "zipped = zip(revenue[:-1], revenue[1:])\n",
    "\n",
    "def change(x,y) :\n",
    "    return y - x\n",
    "    \n",
    "\n",
    "changes = list(map(change, revenue[:-1],revenue[1:]))\n",
    "\n",
    "total_avg=round((sum(changes)/len(changes)),2)"
   ]
  },
  {
   "cell_type": "code",
   "execution_count": 32,
   "metadata": {},
   "outputs": [],
   "source": [
    "max_change = max(changes)\n",
    "\n",
    "max_month = months[list(changes).index(max_change) + 1]\n",
    "\n",
    "min_change = min(changes)\n",
    "\n",
    "min_month = months[list(changes).index(min_change) + 1]\n"
   ]
  },
  {
   "cell_type": "code",
   "execution_count": 33,
   "metadata": {},
   "outputs": [
    {
     "name": "stdout",
     "output_type": "stream",
     "text": [
      "Financial Analysis\n",
      "----------------------\n",
      "Total Months: 86\n",
      "Total: $ 38382578\n",
      "Average Change: $ -2315.12\n",
      "Greatest Increase in Profits: Feb-12 ($1926159)\n",
      "Greates Decrease in Profits: Sep-13 ($-2196167)\n",
      "\n"
     ]
    }
   ],
   "source": [
    "final = (f\"Financial Analysis\\n\"\n",
    "    f\"----------------------\\n\"\n",
    "    f\"Total Months: {count_months}\\n\"\n",
    "    f\"Total: $ {sum_revenue}\\n\"\n",
    "    f\"Average Change: $ {total_avg}\\n\"\n",
    "    f\"Greatest Increase in Profits: {max_month} (${max_change})\\n\"\n",
    "    f\"Greates Decrease in Profits: {min_month} (${min_change})\\n\")\n",
    "\n",
    "print(final)\n",
    "\n",
    "with open(\"Output.txt\", \"w\") as outfile:\n",
    "    outfile.write(final)"
   ]
  },
  {
   "cell_type": "code",
   "execution_count": null,
   "metadata": {},
   "outputs": [],
   "source": []
  }
 ],
 "metadata": {
  "kernelspec": {
   "display_name": "Python 3",
   "language": "python",
   "name": "python3"
  },
  "language_info": {
   "codemirror_mode": {
    "name": "ipython",
    "version": 3
   },
   "file_extension": ".py",
   "mimetype": "text/x-python",
   "name": "python",
   "nbconvert_exporter": "python",
   "pygments_lexer": "ipython3",
   "version": "3.6.5"
  }
 },
 "nbformat": 4,
 "nbformat_minor": 2
}
