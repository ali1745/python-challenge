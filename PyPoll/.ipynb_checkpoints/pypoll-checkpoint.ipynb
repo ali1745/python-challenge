{
 "cells": [
  {
   "cell_type": "code",
   "execution_count": 12,
   "metadata": {},
   "outputs": [],
   "source": [
    "import csv\n",
    "import os\n",
    "from collections import Counter"
   ]
  },
  {
   "cell_type": "code",
   "execution_count": 13,
   "metadata": {},
   "outputs": [],
   "source": [
    "\n",
    "path = os.path.join(\"Resources\",\"election_data.csv\")\n",
    "\n",
    "voter = []\n",
    "county = []\n",
    "candidate = []\n",
    "\n",
    "with open(path,newline=\"\") as infile:\n",
    "    csv = csv.reader(infile ,delimiter = \",\")\n",
    "    next(csv, None)\n",
    "    for row in csv :\n",
    "        voter.append(row[0])\n",
    "        county.append(row[1])\n",
    "        candidate.append(row[2])\n"
   ]
  },
  {
   "cell_type": "code",
   "execution_count": 15,
   "metadata": {},
   "outputs": [],
   "source": [
    "voter_count = 0\n",
    "\n",
    "for i in voter :\n",
    "    voter_count += 1\n"
   ]
  },
  {
   "cell_type": "code",
   "execution_count": 16,
   "metadata": {},
   "outputs": [],
   "source": [
    "candidate_count = Counter(candidate)\n",
    "\n",
    "candidate_print = []\n",
    "\n",
    "for k, v in candidate_count.items() :\n",
    "    candidate_print.append((f\"{k}: {(v/voter_count*100):.2f}% ({v})\"))\n",
    "\n",
    "printout=('\\n'.join(candidate_print))\n"
   ]
  },
  {
   "cell_type": "code",
   "execution_count": 17,
   "metadata": {},
   "outputs": [
    {
     "name": "stdout",
     "output_type": "stream",
     "text": [
      "Election Results\n",
      "-------------------\n",
      "Total Votes: 3521001\n",
      "-------------------\n",
      "Khan: 63.00% (2218231)\n",
      "Correy: 20.00% (704200)\n",
      "Li: 14.00% (492940)\n",
      "O'Tooley: 3.00% (105630)\n",
      "-------------------\n",
      "Winner: Khan\n",
      "-------------------\n",
      "\n"
     ]
    }
   ],
   "source": [
    "value = 0\n",
    "key = \"\"\n",
    "\n",
    "for k, v in candidate_count.items() :\n",
    "    if v == 0 :\n",
    "        value = v\n",
    "        key = k\n",
    "    elif v > value :\n",
    "        value = v\n",
    "        key = k\n",
    "final = (\n",
    "    f\"Election Results\\n\"\n",
    "    f\"-------------------\\n\"\n",
    "    f\"Total Votes: {voter_count}\\n\"\n",
    "    f\"-------------------\\n\"\n",
    "    f\"{printout}\\n\"\n",
    "    f\"-------------------\\n\"\n",
    "    f\"Winner: {key}\\n\"\n",
    "    f\"-------------------\\n\")\n",
    "print(final)\n",
    "\n",
    "with open(\"Output.txt\", \"w\") as outfile:\n",
    "    outfile.write(final)"
   ]
  },
  {
   "cell_type": "code",
   "execution_count": null,
   "metadata": {},
   "outputs": [],
   "source": []
  }
 ],
 "metadata": {
  "kernelspec": {
   "display_name": "Python 3",
   "language": "python",
   "name": "python3"
  },
  "language_info": {
   "codemirror_mode": {
    "name": "ipython",
    "version": 3
   },
   "file_extension": ".py",
   "mimetype": "text/x-python",
   "name": "python",
   "nbconvert_exporter": "python",
   "pygments_lexer": "ipython3",
   "version": "3.6.5"
  }
 },
 "nbformat": 4,
 "nbformat_minor": 2
}
